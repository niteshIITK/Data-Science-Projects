{
 "cells": [
  {
   "cell_type": "code",
   "execution_count": 1,
   "id": "romantic-baseball",
   "metadata": {
    "_cell_guid": "b1076dfc-b9ad-4769-8c92-a6c4dae69d19",
    "_uuid": "8f2839f25d086af736a60e9eeb907d3b93b6e0e5",
    "execution": {
     "iopub.execute_input": "2021-04-15T18:18:09.291972Z",
     "iopub.status.busy": "2021-04-15T18:18:09.290673Z",
     "iopub.status.idle": "2021-04-15T18:18:10.363025Z",
     "shell.execute_reply": "2021-04-15T18:18:10.361744Z"
    },
    "papermill": {
     "duration": 1.119073,
     "end_time": "2021-04-15T18:18:10.363283",
     "exception": false,
     "start_time": "2021-04-15T18:18:09.244210",
     "status": "completed"
    },
    "tags": []
   },
   "outputs": [
    {
     "name": "stdout",
     "output_type": "stream",
     "text": [
      "/kaggle/input/digit-recognizer/sample_submission.csv\n",
      "/kaggle/input/digit-recognizer/train.csv\n",
      "/kaggle/input/digit-recognizer/test.csv\n"
     ]
    }
   ],
   "source": [
    "# This Python 3 environment comes with many helpful analytics libraries installed\n",
    "# It is defined by the kaggle/python Docker image: https://github.com/kaggle/docker-python\n",
    "# For example, here's several helpful packages to load\n",
    "\n",
    "import numpy as np # linear algebra\n",
    "import pandas as pd # data processing, CSV file I/O (e.g. pd.read_csv)\n",
    "import seaborn as sns # To make some plots\n",
    "import matplotlib.pyplot as plt # To make some plots\n",
    "\n",
    "# Input data files are available in the read-only \"../input/\" directory\n",
    "# For example, running this (by clicking run or pressing Shift+Enter) will list all files under the input directory\n",
    "\n",
    "import os\n",
    "for dirname, _, filenames in os.walk('/kaggle/input'):\n",
    "    for filename in filenames:\n",
    "        print(os.path.join(dirname, filename))\n",
    "\n",
    "# You can write up to 20GB to the current directory (/kaggle/working/) that gets preserved as output when you create a version using \"Save & Run All\" \n",
    "# You can also write temporary files to /kaggle/temp/, but they won't be saved outside of the current session"
   ]
  },
  {
   "cell_type": "markdown",
   "id": "associate-breakdown",
   "metadata": {
    "papermill": {
     "duration": 0.046715,
     "end_time": "2021-04-15T18:18:10.449656",
     "exception": false,
     "start_time": "2021-04-15T18:18:10.402941",
     "status": "completed"
    },
    "tags": []
   },
   "source": [
    "### The digits have been size-normalized and centered in a fixed-size image.\n",
    ">  Each pixel column in the training set has a name like pixelx, where x is an integer between 0 and 783, inclusive. To locate this pixel on the image, suppose that we have decomposed x as x = i * 28 + j, where i and j are integers between 0 and 27, inclusive. Then pixelx is located on row i and column j of a 28 x 28 matrix, (indexing by zero)."
   ]
  },
  {
   "cell_type": "code",
   "execution_count": 2,
   "id": "hourly-married",
   "metadata": {
    "execution": {
     "iopub.execute_input": "2021-04-15T18:18:10.553593Z",
     "iopub.status.busy": "2021-04-15T18:18:10.552794Z",
     "iopub.status.idle": "2021-04-15T18:18:14.516035Z",
     "shell.execute_reply": "2021-04-15T18:18:14.516602Z"
    },
    "papermill": {
     "duration": 4.019864,
     "end_time": "2021-04-15T18:18:14.516797",
     "exception": false,
     "start_time": "2021-04-15T18:18:10.496933",
     "status": "completed"
    },
    "tags": []
   },
   "outputs": [
    {
     "data": {
      "text/html": [
       "<div>\n",
       "<style scoped>\n",
       "    .dataframe tbody tr th:only-of-type {\n",
       "        vertical-align: middle;\n",
       "    }\n",
       "\n",
       "    .dataframe tbody tr th {\n",
       "        vertical-align: top;\n",
       "    }\n",
       "\n",
       "    .dataframe thead th {\n",
       "        text-align: right;\n",
       "    }\n",
       "</style>\n",
       "<table border=\"1\" class=\"dataframe\">\n",
       "  <thead>\n",
       "    <tr style=\"text-align: right;\">\n",
       "      <th></th>\n",
       "      <th>label</th>\n",
       "      <th>pixel0</th>\n",
       "      <th>pixel1</th>\n",
       "      <th>pixel2</th>\n",
       "      <th>pixel3</th>\n",
       "      <th>pixel4</th>\n",
       "      <th>pixel5</th>\n",
       "      <th>pixel6</th>\n",
       "      <th>pixel7</th>\n",
       "      <th>pixel8</th>\n",
       "      <th>...</th>\n",
       "      <th>pixel774</th>\n",
       "      <th>pixel775</th>\n",
       "      <th>pixel776</th>\n",
       "      <th>pixel777</th>\n",
       "      <th>pixel778</th>\n",
       "      <th>pixel779</th>\n",
       "      <th>pixel780</th>\n",
       "      <th>pixel781</th>\n",
       "      <th>pixel782</th>\n",
       "      <th>pixel783</th>\n",
       "    </tr>\n",
       "  </thead>\n",
       "  <tbody>\n",
       "    <tr>\n",
       "      <th>0</th>\n",
       "      <td>1</td>\n",
       "      <td>0</td>\n",
       "      <td>0</td>\n",
       "      <td>0</td>\n",
       "      <td>0</td>\n",
       "      <td>0</td>\n",
       "      <td>0</td>\n",
       "      <td>0</td>\n",
       "      <td>0</td>\n",
       "      <td>0</td>\n",
       "      <td>...</td>\n",
       "      <td>0</td>\n",
       "      <td>0</td>\n",
       "      <td>0</td>\n",
       "      <td>0</td>\n",
       "      <td>0</td>\n",
       "      <td>0</td>\n",
       "      <td>0</td>\n",
       "      <td>0</td>\n",
       "      <td>0</td>\n",
       "      <td>0</td>\n",
       "    </tr>\n",
       "    <tr>\n",
       "      <th>1</th>\n",
       "      <td>0</td>\n",
       "      <td>0</td>\n",
       "      <td>0</td>\n",
       "      <td>0</td>\n",
       "      <td>0</td>\n",
       "      <td>0</td>\n",
       "      <td>0</td>\n",
       "      <td>0</td>\n",
       "      <td>0</td>\n",
       "      <td>0</td>\n",
       "      <td>...</td>\n",
       "      <td>0</td>\n",
       "      <td>0</td>\n",
       "      <td>0</td>\n",
       "      <td>0</td>\n",
       "      <td>0</td>\n",
       "      <td>0</td>\n",
       "      <td>0</td>\n",
       "      <td>0</td>\n",
       "      <td>0</td>\n",
       "      <td>0</td>\n",
       "    </tr>\n",
       "    <tr>\n",
       "      <th>2</th>\n",
       "      <td>1</td>\n",
       "      <td>0</td>\n",
       "      <td>0</td>\n",
       "      <td>0</td>\n",
       "      <td>0</td>\n",
       "      <td>0</td>\n",
       "      <td>0</td>\n",
       "      <td>0</td>\n",
       "      <td>0</td>\n",
       "      <td>0</td>\n",
       "      <td>...</td>\n",
       "      <td>0</td>\n",
       "      <td>0</td>\n",
       "      <td>0</td>\n",
       "      <td>0</td>\n",
       "      <td>0</td>\n",
       "      <td>0</td>\n",
       "      <td>0</td>\n",
       "      <td>0</td>\n",
       "      <td>0</td>\n",
       "      <td>0</td>\n",
       "    </tr>\n",
       "    <tr>\n",
       "      <th>3</th>\n",
       "      <td>4</td>\n",
       "      <td>0</td>\n",
       "      <td>0</td>\n",
       "      <td>0</td>\n",
       "      <td>0</td>\n",
       "      <td>0</td>\n",
       "      <td>0</td>\n",
       "      <td>0</td>\n",
       "      <td>0</td>\n",
       "      <td>0</td>\n",
       "      <td>...</td>\n",
       "      <td>0</td>\n",
       "      <td>0</td>\n",
       "      <td>0</td>\n",
       "      <td>0</td>\n",
       "      <td>0</td>\n",
       "      <td>0</td>\n",
       "      <td>0</td>\n",
       "      <td>0</td>\n",
       "      <td>0</td>\n",
       "      <td>0</td>\n",
       "    </tr>\n",
       "    <tr>\n",
       "      <th>4</th>\n",
       "      <td>0</td>\n",
       "      <td>0</td>\n",
       "      <td>0</td>\n",
       "      <td>0</td>\n",
       "      <td>0</td>\n",
       "      <td>0</td>\n",
       "      <td>0</td>\n",
       "      <td>0</td>\n",
       "      <td>0</td>\n",
       "      <td>0</td>\n",
       "      <td>...</td>\n",
       "      <td>0</td>\n",
       "      <td>0</td>\n",
       "      <td>0</td>\n",
       "      <td>0</td>\n",
       "      <td>0</td>\n",
       "      <td>0</td>\n",
       "      <td>0</td>\n",
       "      <td>0</td>\n",
       "      <td>0</td>\n",
       "      <td>0</td>\n",
       "    </tr>\n",
       "  </tbody>\n",
       "</table>\n",
       "<p>5 rows × 785 columns</p>\n",
       "</div>"
      ],
      "text/plain": [
       "   label  pixel0  pixel1  pixel2  pixel3  pixel4  pixel5  pixel6  pixel7  \\\n",
       "0      1       0       0       0       0       0       0       0       0   \n",
       "1      0       0       0       0       0       0       0       0       0   \n",
       "2      1       0       0       0       0       0       0       0       0   \n",
       "3      4       0       0       0       0       0       0       0       0   \n",
       "4      0       0       0       0       0       0       0       0       0   \n",
       "\n",
       "   pixel8  ...  pixel774  pixel775  pixel776  pixel777  pixel778  pixel779  \\\n",
       "0       0  ...         0         0         0         0         0         0   \n",
       "1       0  ...         0         0         0         0         0         0   \n",
       "2       0  ...         0         0         0         0         0         0   \n",
       "3       0  ...         0         0         0         0         0         0   \n",
       "4       0  ...         0         0         0         0         0         0   \n",
       "\n",
       "   pixel780  pixel781  pixel782  pixel783  \n",
       "0         0         0         0         0  \n",
       "1         0         0         0         0  \n",
       "2         0         0         0         0  \n",
       "3         0         0         0         0  \n",
       "4         0         0         0         0  \n",
       "\n",
       "[5 rows x 785 columns]"
      ]
     },
     "execution_count": 2,
     "metadata": {},
     "output_type": "execute_result"
    }
   ],
   "source": [
    "mnist_df = pd.read_csv(\"../input/digit-recognizer/train.csv\")\n",
    "mnist_df.head()"
   ]
  },
  {
   "cell_type": "code",
   "execution_count": 3,
   "id": "spoken-yacht",
   "metadata": {
    "execution": {
     "iopub.execute_input": "2021-04-15T18:18:14.600670Z",
     "iopub.status.busy": "2021-04-15T18:18:14.599631Z",
     "iopub.status.idle": "2021-04-15T18:18:14.607398Z",
     "shell.execute_reply": "2021-04-15T18:18:14.606846Z"
    },
    "papermill": {
     "duration": 0.052108,
     "end_time": "2021-04-15T18:18:14.607553",
     "exception": false,
     "start_time": "2021-04-15T18:18:14.555445",
     "status": "completed"
    },
    "tags": []
   },
   "outputs": [
    {
     "data": {
      "text/plain": [
       "42000"
      ]
     },
     "execution_count": 3,
     "metadata": {},
     "output_type": "execute_result"
    }
   ],
   "source": [
    "mnist_df.shape[0]"
   ]
  },
  {
   "cell_type": "code",
   "execution_count": 4,
   "id": "graduate-sheep",
   "metadata": {
    "execution": {
     "iopub.execute_input": "2021-04-15T18:18:14.690343Z",
     "iopub.status.busy": "2021-04-15T18:18:14.689274Z",
     "iopub.status.idle": "2021-04-15T18:18:14.693031Z",
     "shell.execute_reply": "2021-04-15T18:18:14.692299Z"
    },
    "papermill": {
     "duration": 0.046929,
     "end_time": "2021-04-15T18:18:14.693185",
     "exception": false,
     "start_time": "2021-04-15T18:18:14.646256",
     "status": "completed"
    },
    "tags": []
   },
   "outputs": [],
   "source": [
    "###  Each row represents one image containing a character"
   ]
  },
  {
   "cell_type": "code",
   "execution_count": 5,
   "id": "distributed-change",
   "metadata": {
    "execution": {
     "iopub.execute_input": "2021-04-15T18:18:14.777687Z",
     "iopub.status.busy": "2021-04-15T18:18:14.776977Z",
     "iopub.status.idle": "2021-04-15T18:18:14.828113Z",
     "shell.execute_reply": "2021-04-15T18:18:14.827431Z"
    },
    "papermill": {
     "duration": 0.096096,
     "end_time": "2021-04-15T18:18:14.828277",
     "exception": false,
     "start_time": "2021-04-15T18:18:14.732181",
     "status": "completed"
    },
    "tags": []
   },
   "outputs": [
    {
     "data": {
      "text/plain": [
       "0"
      ]
     },
     "execution_count": 5,
     "metadata": {},
     "output_type": "execute_result"
    }
   ],
   "source": [
    "#Is there a Null Value?\n",
    "mnist_df.isnull().sum().max()"
   ]
  },
  {
   "cell_type": "code",
   "execution_count": 6,
   "id": "engaging-attitude",
   "metadata": {
    "execution": {
     "iopub.execute_input": "2021-04-15T18:18:14.916289Z",
     "iopub.status.busy": "2021-04-15T18:18:14.915172Z",
     "iopub.status.idle": "2021-04-15T18:18:14.920817Z",
     "shell.execute_reply": "2021-04-15T18:18:14.921303Z"
    },
    "papermill": {
     "duration": 0.053301,
     "end_time": "2021-04-15T18:18:14.921491",
     "exception": false,
     "start_time": "2021-04-15T18:18:14.868190",
     "status": "completed"
    },
    "tags": []
   },
   "outputs": [
    {
     "name": "stdout",
     "output_type": "stream",
     "text": [
      "labels are : [0 1 2 3 4 5 6 7 8 9]\n"
     ]
    }
   ],
   "source": [
    "# Hence no null value is there!\n",
    "#Now lets see how many samples we have in each class and what different classes do we have?\n",
    "label_list = mnist_df[\"label\"].unique()\n",
    "label_list.sort()\n",
    "print('labels are :',label_list)"
   ]
  },
  {
   "cell_type": "code",
   "execution_count": 7,
   "id": "marked-architect",
   "metadata": {
    "execution": {
     "iopub.execute_input": "2021-04-15T18:18:15.011130Z",
     "iopub.status.busy": "2021-04-15T18:18:15.010362Z",
     "iopub.status.idle": "2021-04-15T18:18:15.505945Z",
     "shell.execute_reply": "2021-04-15T18:18:15.505378Z"
    },
    "papermill": {
     "duration": 0.542976,
     "end_time": "2021-04-15T18:18:15.506093",
     "exception": false,
     "start_time": "2021-04-15T18:18:14.963117",
     "status": "completed"
    },
    "tags": []
   },
   "outputs": [
    {
     "data": {
      "text/plain": [
       "<AxesSubplot:xlabel='label', ylabel='count'>"
      ]
     },
     "execution_count": 7,
     "metadata": {},
     "output_type": "execute_result"
    },
    {
     "data": {
      "image/png": "[encoded data removed]",
      "text/plain": [
       "<Figure size 432x288 with 1 Axes>"
      ]
     },
     "metadata": {
      "needs_background": "light"
     },
     "output_type": "display_data"
    }
   ],
   "source": [
    "sns.countplot(x ='label', data = mnist_df, log = True) # plot on the log scale"
   ]
  },
  {
   "cell_type": "markdown",
   "id": "minus-toyota",
   "metadata": {
    "papermill": {
     "duration": 0.041417,
     "end_time": "2021-04-15T18:18:15.588759",
     "exception": false,
     "start_time": "2021-04-15T18:18:15.547342",
     "status": "completed"
    },
    "tags": []
   },
   "source": [
    "# This could be Problem no one!!!!!   - Class Imbalance Problem!"
   ]
  },
  {
   "cell_type": "code",
   "execution_count": 8,
   "id": "perfect-pharmacology",
   "metadata": {
    "execution": {
     "iopub.execute_input": "2021-04-15T18:18:15.679502Z",
     "iopub.status.busy": "2021-04-15T18:18:15.678735Z",
     "iopub.status.idle": "2021-04-15T18:18:17.841613Z",
     "shell.execute_reply": "2021-04-15T18:18:17.840856Z"
    },
    "papermill": {
     "duration": 2.210324,
     "end_time": "2021-04-15T18:18:17.841803",
     "exception": false,
     "start_time": "2021-04-15T18:18:15.631479",
     "status": "completed"
    },
    "tags": []
   },
   "outputs": [],
   "source": [
    "from fastai.vision.all import *\n",
    "from tqdm import tqdm\n",
    "import pickle, gzip, math, torch, matplotlib as mpl\n",
    "import torch.nn.functional as F\n",
    "import pathlib\n",
    "from pathlib import Path\n",
    "\n",
    "#Mixed-precision training\n",
    "from fastai.callback.fp16 import *"
   ]
  },
  {
   "cell_type": "code",
   "execution_count": 9,
   "id": "exclusive-failure",
   "metadata": {
    "execution": {
     "iopub.execute_input": "2021-04-15T18:18:17.941793Z",
     "iopub.status.busy": "2021-04-15T18:18:17.940674Z",
     "iopub.status.idle": "2021-04-15T18:18:17.943719Z",
     "shell.execute_reply": "2021-04-15T18:18:17.944310Z"
    },
    "papermill": {
     "duration": 0.056799,
     "end_time": "2021-04-15T18:18:17.944502",
     "exception": false,
     "start_time": "2021-04-15T18:18:17.887703",
     "status": "completed"
    },
    "tags": []
   },
   "outputs": [],
   "source": [
    "# now Lets split our data into training and testing set!\n",
    "\n",
    "valid_df = mnist_df[35000:42000]\n",
    "training_df = mnist_df[0:35000]"
   ]
  },
  {
   "cell_type": "code",
   "execution_count": 10,
   "id": "hundred-tourism",
   "metadata": {
    "execution": {
     "iopub.execute_input": "2021-04-15T18:18:18.037142Z",
     "iopub.status.busy": "2021-04-15T18:18:18.036035Z",
     "iopub.status.idle": "2021-04-15T18:18:18.060656Z",
     "shell.execute_reply": "2021-04-15T18:18:18.059512Z"
    },
    "papermill": {
     "duration": 0.072935,
     "end_time": "2021-04-15T18:18:18.060981",
     "exception": false,
     "start_time": "2021-04-15T18:18:17.988046",
     "status": "completed"
    },
    "tags": []
   },
   "outputs": [
    {
     "data": {
      "text/html": [
       "<div>\n",
       "<style scoped>\n",
       "    .dataframe tbody tr th:only-of-type {\n",
       "        vertical-align: middle;\n",
       "    }\n",
       "\n",
       "    .dataframe tbody tr th {\n",
       "        vertical-align: top;\n",
       "    }\n",
       "\n",
       "    .dataframe thead th {\n",
       "        text-align: right;\n",
       "    }\n",
       "</style>\n",
       "<table border=\"1\" class=\"dataframe\">\n",
       "  <thead>\n",
       "    <tr style=\"text-align: right;\">\n",
       "      <th></th>\n",
       "      <th>label</th>\n",
       "      <th>pixel0</th>\n",
       "      <th>pixel1</th>\n",
       "      <th>pixel2</th>\n",
       "      <th>pixel3</th>\n",
       "      <th>pixel4</th>\n",
       "      <th>pixel5</th>\n",
       "      <th>pixel6</th>\n",
       "      <th>pixel7</th>\n",
       "      <th>pixel8</th>\n",
       "      <th>...</th>\n",
       "      <th>pixel774</th>\n",
       "      <th>pixel775</th>\n",
       "      <th>pixel776</th>\n",
       "      <th>pixel777</th>\n",
       "      <th>pixel778</th>\n",
       "      <th>pixel779</th>\n",
       "      <th>pixel780</th>\n",
       "      <th>pixel781</th>\n",
       "      <th>pixel782</th>\n",
       "      <th>pixel783</th>\n",
       "    </tr>\n",
       "  </thead>\n",
       "  <tbody>\n",
       "    <tr>\n",
       "      <th>34995</th>\n",
       "      <td>7</td>\n",
       "      <td>0</td>\n",
       "      <td>0</td>\n",
       "      <td>0</td>\n",
       "      <td>0</td>\n",
       "      <td>0</td>\n",
       "      <td>0</td>\n",
       "      <td>0</td>\n",
       "      <td>0</td>\n",
       "      <td>0</td>\n",
       "      <td>...</td>\n",
       "      <td>0</td>\n",
       "      <td>0</td>\n",
       "      <td>0</td>\n",
       "      <td>0</td>\n",
       "      <td>0</td>\n",
       "      <td>0</td>\n",
       "      <td>0</td>\n",
       "      <td>0</td>\n",
       "      <td>0</td>\n",
       "      <td>0</td>\n",
       "    </tr>\n",
       "    <tr>\n",
       "      <th>34996</th>\n",
       "      <td>9</td>\n",
       "      <td>0</td>\n",
       "      <td>0</td>\n",
       "      <td>0</td>\n",
       "      <td>0</td>\n",
       "      <td>0</td>\n",
       "      <td>0</td>\n",
       "      <td>0</td>\n",
       "      <td>0</td>\n",
       "      <td>0</td>\n",
       "      <td>...</td>\n",
       "      <td>0</td>\n",
       "      <td>0</td>\n",
       "      <td>0</td>\n",
       "      <td>0</td>\n",
       "      <td>0</td>\n",
       "      <td>0</td>\n",
       "      <td>0</td>\n",
       "      <td>0</td>\n",
       "      <td>0</td>\n",
       "      <td>0</td>\n",
       "    </tr>\n",
       "    <tr>\n",
       "      <th>34997</th>\n",
       "      <td>7</td>\n",
       "      <td>0</td>\n",
       "      <td>0</td>\n",
       "      <td>0</td>\n",
       "      <td>0</td>\n",
       "      <td>0</td>\n",
       "      <td>0</td>\n",
       "      <td>0</td>\n",
       "      <td>0</td>\n",
       "      <td>0</td>\n",
       "      <td>...</td>\n",
       "      <td>0</td>\n",
       "      <td>0</td>\n",
       "      <td>0</td>\n",
       "      <td>0</td>\n",
       "      <td>0</td>\n",
       "      <td>0</td>\n",
       "      <td>0</td>\n",
       "      <td>0</td>\n",
       "      <td>0</td>\n",
       "      <td>0</td>\n",
       "    </tr>\n",
       "    <tr>\n",
       "      <th>34998</th>\n",
       "      <td>7</td>\n",
       "      <td>0</td>\n",
       "      <td>0</td>\n",
       "      <td>0</td>\n",
       "      <td>0</td>\n",
       "      <td>0</td>\n",
       "      <td>0</td>\n",
       "      <td>0</td>\n",
       "      <td>0</td>\n",
       "      <td>0</td>\n",
       "      <td>...</td>\n",
       "      <td>0</td>\n",
       "      <td>0</td>\n",
       "      <td>0</td>\n",
       "      <td>0</td>\n",
       "      <td>0</td>\n",
       "      <td>0</td>\n",
       "      <td>0</td>\n",
       "      <td>0</td>\n",
       "      <td>0</td>\n",
       "      <td>0</td>\n",
       "    </tr>\n",
       "    <tr>\n",
       "      <th>34999</th>\n",
       "      <td>0</td>\n",
       "      <td>0</td>\n",
       "      <td>0</td>\n",
       "      <td>0</td>\n",
       "      <td>0</td>\n",
       "      <td>0</td>\n",
       "      <td>0</td>\n",
       "      <td>0</td>\n",
       "      <td>0</td>\n",
       "      <td>0</td>\n",
       "      <td>...</td>\n",
       "      <td>0</td>\n",
       "      <td>0</td>\n",
       "      <td>0</td>\n",
       "      <td>0</td>\n",
       "      <td>0</td>\n",
       "      <td>0</td>\n",
       "      <td>0</td>\n",
       "      <td>0</td>\n",
       "      <td>0</td>\n",
       "      <td>0</td>\n",
       "    </tr>\n",
       "  </tbody>\n",
       "</table>\n",
       "<p>5 rows × 785 columns</p>\n",
       "</div>"
      ],
      "text/plain": [
       "       label  pixel0  pixel1  pixel2  pixel3  pixel4  pixel5  pixel6  pixel7  \\\n",
       "34995      7       0       0       0       0       0       0       0       0   \n",
       "34996      9       0       0       0       0       0       0       0       0   \n",
       "34997      7       0       0       0       0       0       0       0       0   \n",
       "34998      7       0       0       0       0       0       0       0       0   \n",
       "34999      0       0       0       0       0       0       0       0       0   \n",
       "\n",
       "       pixel8  ...  pixel774  pixel775  pixel776  pixel777  pixel778  \\\n",
       "34995       0  ...         0         0         0         0         0   \n",
       "34996       0  ...         0         0         0         0         0   \n",
       "34997       0  ...         0         0         0         0         0   \n",
       "34998       0  ...         0         0         0         0         0   \n",
       "34999       0  ...         0         0         0         0         0   \n",
       "\n",
       "       pixel779  pixel780  pixel781  pixel782  pixel783  \n",
       "34995         0         0         0         0         0  \n",
       "34996         0         0         0         0         0  \n",
       "34997         0         0         0         0         0  \n",
       "34998         0         0         0         0         0  \n",
       "34999         0         0         0         0         0  \n",
       "\n",
       "[5 rows x 785 columns]"
      ]
     },
     "execution_count": 10,
     "metadata": {},
     "output_type": "execute_result"
    }
   ],
   "source": [
    "training_df.tail()"
   ]
  },
  {
   "cell_type": "code",
   "execution_count": 11,
   "id": "killing-trader",
   "metadata": {
    "execution": {
     "iopub.execute_input": "2021-04-15T18:18:18.237058Z",
     "iopub.status.busy": "2021-04-15T18:18:18.236330Z",
     "iopub.status.idle": "2021-04-15T18:18:18.478881Z",
     "shell.execute_reply": "2021-04-15T18:18:18.479491Z"
    },
    "papermill": {
     "duration": 0.374801,
     "end_time": "2021-04-15T18:18:18.479685",
     "exception": false,
     "start_time": "2021-04-15T18:18:18.104884",
     "status": "completed"
    },
    "tags": []
   },
   "outputs": [
    {
     "name": "stdout",
     "output_type": "stream",
     "text": [
      "torch.Size([35000, 784]) torch.Size([35000, 1])\n"
     ]
    }
   ],
   "source": [
    "x_train = torch.tensor(training_df.drop(['label'], axis = 1).values).float() / 255.0\n",
    "y_train = torch.tensor(training_df.label.values).float().unsqueeze(1)\n",
    "x_valid = torch.tensor(valid_df.drop(['label'], axis = 1).values).float() / 255.0\n",
    "y_valid = torch.tensor(valid_df.label.values).float().unsqueeze(1)\n",
    "\n",
    "print(x_train.shape, y_train.shape)"
   ]
  },
  {
   "cell_type": "code",
   "execution_count": 12,
   "id": "enhanced-might",
   "metadata": {
    "execution": {
     "iopub.execute_input": "2021-04-15T18:18:18.573624Z",
     "iopub.status.busy": "2021-04-15T18:18:18.572555Z",
     "iopub.status.idle": "2021-04-15T18:18:18.577653Z",
     "shell.execute_reply": "2021-04-15T18:18:18.576926Z"
    },
    "papermill": {
     "duration": 0.054528,
     "end_time": "2021-04-15T18:18:18.577804",
     "exception": false,
     "start_time": "2021-04-15T18:18:18.523276",
     "status": "completed"
    },
    "tags": []
   },
   "outputs": [
    {
     "name": "stdout",
     "output_type": "stream",
     "text": [
      "torch.Size([35000, 28, 28])\n"
     ]
    }
   ],
   "source": [
    "# Reshape image in 3 dimensions (height = 28px, width = 28px) for visualization purposes\n",
    "x_train_image = torch.reshape(x_train, (-1,28,28))\n",
    "print(x_train_image.shape)"
   ]
  },
  {
   "cell_type": "code",
   "execution_count": 13,
   "id": "informal-duplicate",
   "metadata": {
    "execution": {
     "iopub.execute_input": "2021-04-15T18:18:18.698961Z",
     "iopub.status.busy": "2021-04-15T18:18:18.694332Z",
     "iopub.status.idle": "2021-04-15T18:18:18.814504Z",
     "shell.execute_reply": "2021-04-15T18:18:18.813890Z"
    },
    "papermill": {
     "duration": 0.191924,
     "end_time": "2021-04-15T18:18:18.814663",
     "exception": false,
     "start_time": "2021-04-15T18:18:18.622739",
     "status": "completed"
    },
    "tags": []
   },
   "outputs": [
    {
     "data": {
      "text/plain": [
       "<matplotlib.image.AxesImage at 0x7fd90f1eed90>"
      ]
     },
     "execution_count": 13,
     "metadata": {},
     "output_type": "execute_result"
    },
    {
     "data": {
      "image/png": "[encoded data removed]",
      "text/plain": [
       "<Figure size 432x288 with 1 Axes>"
      ]
     },
     "metadata": {
      "needs_background": "light"
     },
     "output_type": "display_data"
    }
   ],
   "source": [
    "plt.imshow(x_train_image[0])"
   ]
  },
  {
   "cell_type": "markdown",
   "id": "material-asian",
   "metadata": {
    "papermill": {
     "duration": 0.045083,
     "end_time": "2021-04-15T18:18:18.904916",
     "exception": false,
     "start_time": "2021-04-15T18:18:18.859833",
     "status": "completed"
    },
    "tags": []
   },
   "source": [
    "## Deep Learning Approach!"
   ]
  },
  {
   "cell_type": "markdown",
   "id": "instrumental-journey",
   "metadata": {
    "papermill": {
     "duration": 0.044039,
     "end_time": "2021-04-15T18:18:18.994026",
     "exception": false,
     "start_time": "2021-04-15T18:18:18.949987",
     "status": "completed"
    },
    "tags": []
   },
   "source": [
    "## First model with Pytorch\n",
    "#### Step 0: Preparation : PyTorch is required to return a tuple of (X,Y) when indexed. we need this to use PyTorch"
   ]
  },
  {
   "cell_type": "code",
   "execution_count": 14,
   "id": "lasting-iraqi",
   "metadata": {
    "execution": {
     "iopub.execute_input": "2021-04-15T18:18:19.094912Z",
     "iopub.status.busy": "2021-04-15T18:18:19.093979Z",
     "iopub.status.idle": "2021-04-15T18:18:19.367240Z",
     "shell.execute_reply": "2021-04-15T18:18:19.366419Z"
    },
    "papermill": {
     "duration": 0.328866,
     "end_time": "2021-04-15T18:18:19.367407",
     "exception": false,
     "start_time": "2021-04-15T18:18:19.038541",
     "status": "completed"
    },
    "tags": []
   },
   "outputs": [
    {
     "data": {
      "text/plain": [
       "(torch.Size([784]), tensor(1))"
      ]
     },
     "execution_count": 14,
     "metadata": {},
     "output_type": "execute_result"
    }
   ],
   "source": [
    "dset = list(zip(x_train,y_train.squeeze(1).long()))\n",
    "valid_dset = list(zip(x_valid,y_valid.squeeze(1).long()))\n",
    "x,y = dset[0]   #In tuple form\n",
    "x.shape,y"
   ]
  },
  {
   "cell_type": "code",
   "execution_count": 15,
   "id": "removable-lexington",
   "metadata": {
    "execution": {
     "iopub.execute_input": "2021-04-15T18:18:19.472984Z",
     "iopub.status.busy": "2021-04-15T18:18:19.471897Z",
     "iopub.status.idle": "2021-04-15T18:18:19.475307Z",
     "shell.execute_reply": "2021-04-15T18:18:19.474597Z"
    },
    "papermill": {
     "duration": 0.057972,
     "end_time": "2021-04-15T18:18:19.475477",
     "exception": false,
     "start_time": "2021-04-15T18:18:19.417505",
     "status": "completed"
    },
    "tags": []
   },
   "outputs": [],
   "source": [
    "#Neighter we take one by one sample to train neither we take all take at once,\n",
    "#So instead we take a compromise between the two: \n",
    "#we calculate the average loss for a few data items at a time. \n",
    "#This is called a mini-batch.\n",
    "#The number of data items in the mini-batch is called the batch size. \n",
    "#A larger batch size means that you will get a more accurate and stable \n",
    "#estimate of your dataset's gradients from the loss function, \n",
    "#but it will take longer, and you will process fewer mini-batches per epoch. \n",
    "\n",
    "#Choosing a good batch size is one of the decisions you need to make as a \n",
    "#deep learning practitioner to train your model quickly and accurately."
   ]
  },
  {
   "cell_type": "code",
   "execution_count": 16,
   "id": "proved-speech",
   "metadata": {
    "execution": {
     "iopub.execute_input": "2021-04-15T18:18:19.582464Z",
     "iopub.status.busy": "2021-04-15T18:18:19.580946Z",
     "iopub.status.idle": "2021-04-15T18:18:19.586184Z",
     "shell.execute_reply": "2021-04-15T18:18:19.585461Z"
    },
    "papermill": {
     "duration": 0.062331,
     "end_time": "2021-04-15T18:18:19.586369",
     "exception": false,
     "start_time": "2021-04-15T18:18:19.524038",
     "status": "completed"
    },
    "tags": []
   },
   "outputs": [],
   "source": [
    "# That is why we also need a Dataloader. \n",
    "#A DataLoader can take any Python collection and turn it into an iterator \n",
    "#over many batches"
   ]
  },
  {
   "cell_type": "code",
   "execution_count": 17,
   "id": "opening-earth",
   "metadata": {
    "execution": {
     "iopub.execute_input": "2021-04-15T18:18:19.693629Z",
     "iopub.status.busy": "2021-04-15T18:18:19.692531Z",
     "iopub.status.idle": "2021-04-15T18:18:19.696730Z",
     "shell.execute_reply": "2021-04-15T18:18:19.696053Z"
    },
    "papermill": {
     "duration": 0.056978,
     "end_time": "2021-04-15T18:18:19.696905",
     "exception": false,
     "start_time": "2021-04-15T18:18:19.639927",
     "status": "completed"
    },
    "tags": []
   },
   "outputs": [],
   "source": [
    "# When we pass a Dataset to a DataLoader we will get back many \n",
    "#batches which are themselves tuples of tensors representing batches of \n",
    "#independent and dependent variables"
   ]
  },
  {
   "cell_type": "code",
   "execution_count": 18,
   "id": "perfect-musician",
   "metadata": {
    "execution": {
     "iopub.execute_input": "2021-04-15T18:18:19.802313Z",
     "iopub.status.busy": "2021-04-15T18:18:19.801491Z",
     "iopub.status.idle": "2021-04-15T18:18:19.819001Z",
     "shell.execute_reply": "2021-04-15T18:18:19.817789Z"
    },
    "papermill": {
     "duration": 0.074319,
     "end_time": "2021-04-15T18:18:19.819196",
     "exception": false,
     "start_time": "2021-04-15T18:18:19.744877",
     "status": "completed"
    },
    "tags": []
   },
   "outputs": [
    {
     "data": {
      "text/plain": [
       "(torch.Size([256, 784]), torch.Size([256]))"
      ]
     },
     "execution_count": 18,
     "metadata": {},
     "output_type": "execute_result"
    }
   ],
   "source": [
    "dl = DataLoader(dset, batch_size=256)\n",
    "valid_dl = DataLoader(valid_dset, batch_size=256)\n",
    "xb,yb = first(dl)\n",
    "xb.shape,yb.shape"
   ]
  },
  {
   "cell_type": "markdown",
   "id": "acting-birthday",
   "metadata": {
    "papermill": {
     "duration": 0.050473,
     "end_time": "2021-04-15T18:18:19.916629",
     "exception": false,
     "start_time": "2021-04-15T18:18:19.866156",
     "status": "completed"
    },
    "tags": []
   },
   "source": [
    "#### Step 1: Initialization"
   ]
  },
  {
   "cell_type": "code",
   "execution_count": 19,
   "id": "overhead-element",
   "metadata": {
    "execution": {
     "iopub.execute_input": "2021-04-15T18:18:20.018725Z",
     "iopub.status.busy": "2021-04-15T18:18:20.017604Z",
     "iopub.status.idle": "2021-04-15T18:18:20.021454Z",
     "shell.execute_reply": "2021-04-15T18:18:20.020757Z"
    },
    "papermill": {
     "duration": 0.05707,
     "end_time": "2021-04-15T18:18:20.021610",
     "exception": false,
     "start_time": "2021-04-15T18:18:19.964540",
     "status": "completed"
    },
    "tags": []
   },
   "outputs": [],
   "source": [
    "# We need an (initially random) weight for every pixel (this is the initialize step in our seven-step process).\n",
    "# The function weights times pixels won't be flexible enough—it is always equal to 0 when the pixels are equal to 0 (i.e., its intercept is 0). Thus, we need a bias b. In neural networks, the w in the equation y=w*x+b is called the weights, and the b is called the bias. Together, the weights and bias make up the parameters.\n",
    "def init_params(size, std=1.0):\n",
    "    return (torch.randn(size)*std).requires_grad_()"
   ]
  },
  {
   "cell_type": "code",
   "execution_count": 20,
   "id": "alert-raise",
   "metadata": {
    "execution": {
     "iopub.execute_input": "2021-04-15T18:18:20.125926Z",
     "iopub.status.busy": "2021-04-15T18:18:20.125135Z",
     "iopub.status.idle": "2021-04-15T18:18:20.128668Z",
     "shell.execute_reply": "2021-04-15T18:18:20.127925Z"
    },
    "papermill": {
     "duration": 0.059017,
     "end_time": "2021-04-15T18:18:20.128837",
     "exception": false,
     "start_time": "2021-04-15T18:18:20.069820",
     "status": "completed"
    },
    "tags": []
   },
   "outputs": [],
   "source": [
    "# The shape of our weights should be 784x10, because at the end of our model, we want to get 10 predictions, one for each number between 0 and 9. We can then take the argmax of each value. The largest value obtained will be our prediction."
   ]
  },
  {
   "cell_type": "code",
   "execution_count": 21,
   "id": "rational-wilson",
   "metadata": {
    "execution": {
     "iopub.execute_input": "2021-04-15T18:18:20.239108Z",
     "iopub.status.busy": "2021-04-15T18:18:20.238155Z",
     "iopub.status.idle": "2021-04-15T18:18:20.283070Z",
     "shell.execute_reply": "2021-04-15T18:18:20.282300Z"
    },
    "papermill": {
     "duration": 0.102488,
     "end_time": "2021-04-15T18:18:20.283261",
     "exception": false,
     "start_time": "2021-04-15T18:18:20.180773",
     "status": "completed"
    },
    "tags": []
   },
   "outputs": [
    {
     "data": {
      "text/plain": [
       "(tensor([-0.8428, -0.7926,  1.0255,  0.2581, -1.4997,  0.9822, -1.5766,  0.3379,\n",
       "          0.6072,  0.2734], grad_fn=<SelectBackward>),\n",
       " tensor(1.1218, grad_fn=<SelectBackward>))"
      ]
     },
     "execution_count": 21,
     "metadata": {},
     "output_type": "execute_result"
    }
   ],
   "source": [
    "weights = init_params((28*28,10))\n",
    "bias = init_params(10)\n",
    "weights[0], bias[0]"
   ]
  },
  {
   "cell_type": "markdown",
   "id": "olive-component",
   "metadata": {
    "papermill": {
     "duration": 0.047872,
     "end_time": "2021-04-15T18:18:20.379112",
     "exception": false,
     "start_time": "2021-04-15T18:18:20.331240",
     "status": "completed"
    },
    "tags": []
   },
   "source": [
    "#### Step 2: Prediction"
   ]
  },
  {
   "cell_type": "code",
   "execution_count": 22,
   "id": "important-appeal",
   "metadata": {
    "execution": {
     "iopub.execute_input": "2021-04-15T18:18:20.480825Z",
     "iopub.status.busy": "2021-04-15T18:18:20.480127Z",
     "iopub.status.idle": "2021-04-15T18:18:20.483927Z",
     "shell.execute_reply": "2021-04-15T18:18:20.483172Z"
    },
    "papermill": {
     "duration": 0.055627,
     "end_time": "2021-04-15T18:18:20.484079",
     "exception": false,
     "start_time": "2021-04-15T18:18:20.428452",
     "status": "completed"
    },
    "tags": []
   },
   "outputs": [],
   "source": [
    "# def linear1(xb): \n",
    "#     return xb@weights + bias\n",
    "\n",
    "# preds = linear1(x_train)\n",
    "# preds[0]\n"
   ]
  },
  {
   "cell_type": "code",
   "execution_count": 23,
   "id": "metric-promise",
   "metadata": {
    "execution": {
     "iopub.execute_input": "2021-04-15T18:18:20.584447Z",
     "iopub.status.busy": "2021-04-15T18:18:20.583712Z",
     "iopub.status.idle": "2021-04-15T18:18:20.587415Z",
     "shell.execute_reply": "2021-04-15T18:18:20.586753Z"
    },
    "papermill": {
     "duration": 0.054892,
     "end_time": "2021-04-15T18:18:20.587583",
     "exception": false,
     "start_time": "2021-04-15T18:18:20.532691",
     "status": "completed"
    },
    "tags": []
   },
   "outputs": [],
   "source": [
    "#Bonus ! Adding a Nonlinearity\n",
    "#So far we have a general procedure for optimizing the parameters of a function, and we have tried it out on a very boring function: a simple linear classifier. A linear classifier is very constrained in terms of what it can do. To make it a bit more complex (and able to handle more tasks), we need to add something nonlinear between two linear classifiers—this is what gives us a neural network."
   ]
  },
  {
   "cell_type": "code",
   "execution_count": 24,
   "id": "independent-domain",
   "metadata": {
    "execution": {
     "iopub.execute_input": "2021-04-15T18:18:20.692389Z",
     "iopub.status.busy": "2021-04-15T18:18:20.691519Z",
     "iopub.status.idle": "2021-04-15T18:18:20.784936Z",
     "shell.execute_reply": "2021-04-15T18:18:20.785532Z"
    },
    "papermill": {
     "duration": 0.149074,
     "end_time": "2021-04-15T18:18:20.785719",
     "exception": false,
     "start_time": "2021-04-15T18:18:20.636645",
     "status": "completed"
    },
    "tags": []
   },
   "outputs": [
    {
     "data": {
      "text/plain": [
       "(tensor([ 1.1774e+01, -4.3849e-02, -7.1576e+01, -1.5422e+01,  2.4311e+01,\n",
       "         -2.6154e+01, -4.5896e+01,  2.4718e+01, -1.9252e+01,  3.7994e+01],\n",
       "        grad_fn=<SelectBackward>),\n",
       " torch.Size([35000, 10]))"
      ]
     },
     "execution_count": 24,
     "metadata": {},
     "output_type": "execute_result"
    }
   ],
   "source": [
    "def simple_net(xb): \n",
    "    res = xb@w1 + b1\n",
    "    res = res.max(tensor(0.0))  #RELU \n",
    "    res = res@w2 + b2\n",
    "    return res\n",
    "\n",
    "w1 = init_params((28*28,50))\n",
    "b1 = init_params(50)\n",
    "w2 = init_params((50,10))\n",
    "b2 = init_params(10)\n",
    "\n",
    "preds = simple_net(x_train)\n",
    "preds[0], preds.shape"
   ]
  },
  {
   "cell_type": "code",
   "execution_count": 25,
   "id": "nuclear-bibliography",
   "metadata": {
    "execution": {
     "iopub.execute_input": "2021-04-15T18:18:20.889094Z",
     "iopub.status.busy": "2021-04-15T18:18:20.887914Z",
     "iopub.status.idle": "2021-04-15T18:18:20.893620Z",
     "shell.execute_reply": "2021-04-15T18:18:20.892844Z"
    },
    "papermill": {
     "duration": 0.060249,
     "end_time": "2021-04-15T18:18:20.893932",
     "exception": false,
     "start_time": "2021-04-15T18:18:20.833683",
     "status": "completed"
    },
    "tags": []
   },
   "outputs": [],
   "source": [
    "#That little function res.max(tensor(0.0)) is called a rectified linear unit, also known as ReLU. We think we can all agree that rectified linear unit sounds pretty fancy and complicated... But actually, there's nothing more to it than res.max(tensor(0.0))—in other words, replace every negative number with a zero. This tiny function is also available in PyTorch as F.relu"
   ]
  },
  {
   "cell_type": "code",
   "execution_count": 26,
   "id": "elect-spelling",
   "metadata": {
    "execution": {
     "iopub.execute_input": "2021-04-15T18:18:21.004822Z",
     "iopub.status.busy": "2021-04-15T18:18:21.003761Z",
     "iopub.status.idle": "2021-04-15T18:18:21.008080Z",
     "shell.execute_reply": "2021-04-15T18:18:21.007328Z"
    },
    "papermill": {
     "duration": 0.059885,
     "end_time": "2021-04-15T18:18:21.008270",
     "exception": false,
     "start_time": "2021-04-15T18:18:20.948385",
     "status": "completed"
    },
    "tags": []
   },
   "outputs": [],
   "source": [
    "#### Step 3: Compute Loss - Cross Entropy\n",
    "#A lot of loss functions exists, each of them is helpful in some specific situations. Four our problem, a good loss function is cross-entropy.\n",
    "\n",
    "#For more info about cross entropy, check https://towardsdatascience.com/cross-entropy-loss-function-f38c4ec8643e\n",
    "#For even more info about the maths behind cross-entropy, check III.7) of https://www.kaggle.com/toldo171/digit-recognition-from-scratch"
   ]
  },
  {
   "cell_type": "code",
   "execution_count": 27,
   "id": "armed-progressive",
   "metadata": {
    "execution": {
     "iopub.execute_input": "2021-04-15T18:18:21.115042Z",
     "iopub.status.busy": "2021-04-15T18:18:21.114322Z",
     "iopub.status.idle": "2021-04-15T18:18:21.118392Z",
     "shell.execute_reply": "2021-04-15T18:18:21.117619Z"
    },
    "papermill": {
     "duration": 0.060145,
     "end_time": "2021-04-15T18:18:21.118553",
     "exception": false,
     "start_time": "2021-04-15T18:18:21.058408",
     "status": "completed"
    },
    "tags": []
   },
   "outputs": [],
   "source": [
    "#First, we will need to compute the softmax of our activations\n",
    "#Then, if we consider a classification problem where the model has to determine if an image is a 1, 2, 3 or 4, and the softmax probabilities (S) and labels (T) of the model are:"
   ]
  },
  {
   "cell_type": "code",
   "execution_count": 28,
   "id": "valuable-technician",
   "metadata": {
    "execution": {
     "iopub.execute_input": "2021-04-15T18:18:21.225829Z",
     "iopub.status.busy": "2021-04-15T18:18:21.224621Z",
     "iopub.status.idle": "2021-04-15T18:18:21.228352Z",
     "shell.execute_reply": "2021-04-15T18:18:21.227461Z"
    },
    "papermill": {
     "duration": 0.059368,
     "end_time": "2021-04-15T18:18:21.228547",
     "exception": false,
     "start_time": "2021-04-15T18:18:21.169179",
     "status": "completed"
    },
    "tags": []
   },
   "outputs": [],
   "source": [
    "#Softmax is continuously differentiable function. This makes it possible to calculate the derivative of the loss function with respect to every weight in the neural network. This property allows the model to adjust the weights accordingly to minimize the loss function (model output close to the true values).\n",
    "\n",
    "#In PyTorch, F.log_softmax and F.nll_loss are combined in one optimized function, F.cross_entropy."
   ]
  },
  {
   "cell_type": "code",
   "execution_count": 29,
   "id": "hydraulic-preserve",
   "metadata": {
    "execution": {
     "iopub.execute_input": "2021-04-15T18:18:21.344012Z",
     "iopub.status.busy": "2021-04-15T18:18:21.342752Z",
     "iopub.status.idle": "2021-04-15T18:18:21.347101Z",
     "shell.execute_reply": "2021-04-15T18:18:21.346512Z"
    },
    "papermill": {
     "duration": 0.064366,
     "end_time": "2021-04-15T18:18:21.347301",
     "exception": false,
     "start_time": "2021-04-15T18:18:21.282935",
     "status": "completed"
    },
    "tags": []
   },
   "outputs": [],
   "source": [
    "loss_func = F.cross_entropy"
   ]
  },
  {
   "cell_type": "code",
   "execution_count": 30,
   "id": "female-rover",
   "metadata": {
    "execution": {
     "iopub.execute_input": "2021-04-15T18:18:21.464255Z",
     "iopub.status.busy": "2021-04-15T18:18:21.463128Z",
     "iopub.status.idle": "2021-04-15T18:18:21.466591Z",
     "shell.execute_reply": "2021-04-15T18:18:21.467412Z"
    },
    "papermill": {
     "duration": 0.070236,
     "end_time": "2021-04-15T18:18:21.467677",
     "exception": false,
     "start_time": "2021-04-15T18:18:21.397441",
     "status": "completed"
    },
    "tags": []
   },
   "outputs": [],
   "source": [
    "# Step 4: Compute Gradient\n",
    "###This step is pretty straightforward: we compute our predictions and then the loss between our predictions and the real values, using softmax activations and cross entropy loss (regrouped in F.cross_entropy)."
   ]
  },
  {
   "cell_type": "code",
   "execution_count": 31,
   "id": "automotive-refrigerator",
   "metadata": {
    "execution": {
     "iopub.execute_input": "2021-04-15T18:18:21.588894Z",
     "iopub.status.busy": "2021-04-15T18:18:21.587834Z",
     "iopub.status.idle": "2021-04-15T18:18:21.594357Z",
     "shell.execute_reply": "2021-04-15T18:18:21.595124Z"
    },
    "papermill": {
     "duration": 0.0622,
     "end_time": "2021-04-15T18:18:21.595361",
     "exception": false,
     "start_time": "2021-04-15T18:18:21.533161",
     "status": "completed"
    },
    "tags": []
   },
   "outputs": [],
   "source": [
    "def calc_grad(xb, yb, model):\n",
    "    preds = model(xb)\n",
    "    loss = loss_func(preds, yb)\n",
    "    loss.backward()"
   ]
  },
  {
   "cell_type": "code",
   "execution_count": 32,
   "id": "alpine-effort",
   "metadata": {
    "execution": {
     "iopub.execute_input": "2021-04-15T18:18:21.706950Z",
     "iopub.status.busy": "2021-04-15T18:18:21.705921Z",
     "iopub.status.idle": "2021-04-15T18:18:21.709460Z",
     "shell.execute_reply": "2021-04-15T18:18:21.710190Z"
    },
    "papermill": {
     "duration": 0.058343,
     "end_time": "2021-04-15T18:18:21.710431",
     "exception": false,
     "start_time": "2021-04-15T18:18:21.652088",
     "status": "completed"
    },
    "tags": []
   },
   "outputs": [],
   "source": [
    "# Step 5: Update weights\n",
    "###Our only remaining step is to update the weights and biases based on the gradient and learning rate (i.e. param = param - param_grad * lr). When we do so, we have to tell PyTorch not to take the gradient of this step too—otherwise things will get very confusing when we try to compute the derivative at the next batch! If we assign to the data attribute of a tensor then PyTorch will not take the gradient of that step. Here's our basic training loop for an epoch:"
   ]
  },
  {
   "cell_type": "code",
   "execution_count": 33,
   "id": "impossible-marriage",
   "metadata": {
    "execution": {
     "iopub.execute_input": "2021-04-15T18:18:21.818538Z",
     "iopub.status.busy": "2021-04-15T18:18:21.817757Z",
     "iopub.status.idle": "2021-04-15T18:18:21.823172Z",
     "shell.execute_reply": "2021-04-15T18:18:21.823807Z"
    },
    "papermill": {
     "duration": 0.060433,
     "end_time": "2021-04-15T18:18:21.824008",
     "exception": false,
     "start_time": "2021-04-15T18:18:21.763575",
     "status": "completed"
    },
    "tags": []
   },
   "outputs": [],
   "source": [
    "def train_epoch(model, lr, params):\n",
    "    for xb,yb in dl:\n",
    "        calc_grad(xb, yb, model)\n",
    "        for p in params:\n",
    "            p.data -= p.grad*lr\n",
    "            p.grad.zero_()"
   ]
  },
  {
   "cell_type": "code",
   "execution_count": 34,
   "id": "aerial-horizontal",
   "metadata": {
    "execution": {
     "iopub.execute_input": "2021-04-15T18:18:21.928338Z",
     "iopub.status.busy": "2021-04-15T18:18:21.927402Z",
     "iopub.status.idle": "2021-04-15T18:18:21.930329Z",
     "shell.execute_reply": "2021-04-15T18:18:21.930977Z"
    },
    "papermill": {
     "duration": 0.056322,
     "end_time": "2021-04-15T18:18:21.931155",
     "exception": false,
     "start_time": "2021-04-15T18:18:21.874833",
     "status": "completed"
    },
    "tags": []
   },
   "outputs": [],
   "source": [
    "# Step 6, 7: Combining everything\n",
    "# We also want to check how we're doing, by looking at the accuracy of the validation set, so let's define an accuracy metric. We take the argmax of our output, to find out which of the numbers of the softmax is the highest. The index of that is our prediction. Then we check if it's equal with the real value, and we take the mean of it"
   ]
  },
  {
   "cell_type": "code",
   "execution_count": 35,
   "id": "fifth-setting",
   "metadata": {
    "execution": {
     "iopub.execute_input": "2021-04-15T18:18:22.040682Z",
     "iopub.status.busy": "2021-04-15T18:18:22.039624Z",
     "iopub.status.idle": "2021-04-15T18:18:22.043965Z",
     "shell.execute_reply": "2021-04-15T18:18:22.043297Z"
    },
    "papermill": {
     "duration": 0.06313,
     "end_time": "2021-04-15T18:18:22.044124",
     "exception": false,
     "start_time": "2021-04-15T18:18:21.980994",
     "status": "completed"
    },
    "tags": []
   },
   "outputs": [],
   "source": [
    "def accuracy(out, yb): \n",
    "   \n",
    "    return (torch.argmax(out, dim=1)==yb).float().mean()\n",
    "\n",
    "def validate_epoch(model):\n",
    "    accs = [accuracy(model(xb), yb) for xb,yb in valid_dl]\n",
    "    return round(torch.stack(accs).mean().item(), 4)"
   ]
  },
  {
   "cell_type": "code",
   "execution_count": 36,
   "id": "increased-language",
   "metadata": {
    "execution": {
     "iopub.execute_input": "2021-04-15T18:18:22.150495Z",
     "iopub.status.busy": "2021-04-15T18:18:22.149464Z",
     "iopub.status.idle": "2021-04-15T18:18:22.179073Z",
     "shell.execute_reply": "2021-04-15T18:18:22.179659Z"
    },
    "papermill": {
     "duration": 0.082873,
     "end_time": "2021-04-15T18:18:22.179847",
     "exception": false,
     "start_time": "2021-04-15T18:18:22.096974",
     "status": "completed"
    },
    "tags": []
   },
   "outputs": [
    {
     "name": "stdout",
     "output_type": "stream",
     "text": [
      "tensor([ 1.1774e+01, -4.3849e-02, -7.1576e+01, -1.5422e+01,  2.4311e+01,\n",
      "        -2.6154e+01, -4.5896e+01,  2.4718e+01, -1.9252e+01,  3.7994e+01],\n",
      "       grad_fn=<SelectBackward>) torch.Size([256, 10])\n",
      "tensor(61.2915, grad_fn=<NllLossBackward>)\n",
      "tensor(0.0781)\n"
     ]
    }
   ],
   "source": [
    "#Let's try to run this for one batch (256 images) to see if everything works:\n",
    "\n",
    "preds = simple_net(xb)\n",
    "print(preds[0], preds.shape)\n",
    "print(loss_func(preds, yb))\n",
    "print(accuracy(preds, yb))"
   ]
  },
  {
   "cell_type": "code",
   "execution_count": 37,
   "id": "social-velvet",
   "metadata": {
    "execution": {
     "iopub.execute_input": "2021-04-15T18:18:22.285316Z",
     "iopub.status.busy": "2021-04-15T18:18:22.284585Z",
     "iopub.status.idle": "2021-04-15T18:18:22.287769Z",
     "shell.execute_reply": "2021-04-15T18:18:22.288306Z"
    },
    "papermill": {
     "duration": 0.057479,
     "end_time": "2021-04-15T18:18:22.288504",
     "exception": false,
     "start_time": "2021-04-15T18:18:22.231025",
     "status": "completed"
    },
    "tags": []
   },
   "outputs": [],
   "source": [
    "# That's our starting point. We have around 10% accuracy, which is totally normal since our initialisation step was done randomly. Let's train for one epoch, and see if the accuracy improves:"
   ]
  },
  {
   "cell_type": "code",
   "execution_count": 38,
   "id": "specific-confusion",
   "metadata": {
    "execution": {
     "iopub.execute_input": "2021-04-15T18:18:22.402488Z",
     "iopub.status.busy": "2021-04-15T18:18:22.401742Z",
     "iopub.status.idle": "2021-04-15T18:18:22.948192Z",
     "shell.execute_reply": "2021-04-15T18:18:22.948874Z"
    },
    "papermill": {
     "duration": 0.61072,
     "end_time": "2021-04-15T18:18:22.949053",
     "exception": false,
     "start_time": "2021-04-15T18:18:22.338333",
     "status": "completed"
    },
    "tags": []
   },
   "outputs": [
    {
     "data": {
      "text/plain": [
       "0.676"
      ]
     },
     "execution_count": 38,
     "metadata": {},
     "output_type": "execute_result"
    }
   ],
   "source": [
    "lr = 1\n",
    "params = w1, b1, w2, b2\n",
    "train_epoch(simple_net, lr, params)\n",
    "validate_epoch(simple_net)"
   ]
  },
  {
   "cell_type": "code",
   "execution_count": 39,
   "id": "adopted-rubber",
   "metadata": {
    "execution": {
     "iopub.execute_input": "2021-04-15T18:18:23.052870Z",
     "iopub.status.busy": "2021-04-15T18:18:23.051840Z",
     "iopub.status.idle": "2021-04-15T18:18:23.057157Z",
     "shell.execute_reply": "2021-04-15T18:18:23.056571Z"
    },
    "papermill": {
     "duration": 0.059124,
     "end_time": "2021-04-15T18:18:23.057331",
     "exception": false,
     "start_time": "2021-04-15T18:18:22.998207",
     "status": "completed"
    },
    "tags": []
   },
   "outputs": [],
   "source": [
    "#It works! Let's try for a few more epochs:"
   ]
  },
  {
   "cell_type": "code",
   "execution_count": 40,
   "id": "figured-operation",
   "metadata": {
    "execution": {
     "iopub.execute_input": "2021-04-15T18:18:23.165082Z",
     "iopub.status.busy": "2021-04-15T18:18:23.164396Z",
     "iopub.status.idle": "2021-04-15T18:18:50.309888Z",
     "shell.execute_reply": "2021-04-15T18:18:50.309260Z"
    },
    "papermill": {
     "duration": 27.201994,
     "end_time": "2021-04-15T18:18:50.310084",
     "exception": false,
     "start_time": "2021-04-15T18:18:23.108090",
     "status": "completed"
    },
    "tags": []
   },
   "outputs": [
    {
     "name": "stdout",
     "output_type": "stream",
     "text": [
      "0.7497 0.7934 0.8416 0.8612 0.8705 0.8793 0.8856 0.8913 0.8948 0.8996 0.9022 0.9056 0.9076 0.9107 0.9133 0.9143 0.9151 0.9158 0.9169 0.9185 0.9193 0.9204 0.9201 0.92 0.9211 0.9232 0.9232 0.9239 0.9243 0.9254 0.9251 0.9253 0.9257 0.9261 0.9267 0.9272 0.9283 0.9283 0.9286 0.9296 0.9296 0.931 0.9317 0.9315 0.9318 0.9317 0.9321 0.9318 0.9324 0.9325 "
     ]
    }
   ],
   "source": [
    "for i in range(50):\n",
    "    train_epoch(simple_net, lr, params)\n",
    "    print(validate_epoch(simple_net), end=' ')"
   ]
  },
  {
   "cell_type": "code",
   "execution_count": 41,
   "id": "north-sellers",
   "metadata": {
    "execution": {
     "iopub.execute_input": "2021-04-15T18:18:50.448774Z",
     "iopub.status.busy": "2021-04-15T18:18:50.447729Z",
     "iopub.status.idle": "2021-04-15T18:18:50.450889Z",
     "shell.execute_reply": "2021-04-15T18:18:50.451414Z"
    },
    "papermill": {
     "duration": 0.074787,
     "end_time": "2021-04-15T18:18:50.451610",
     "exception": false,
     "start_time": "2021-04-15T18:18:50.376823",
     "status": "completed"
    },
    "tags": []
   },
   "outputs": [],
   "source": [
    "#And this is it! The rest is only \"tricks\" to improve the results, but here we just finished our first deep learning model from scratch!"
   ]
  },
  {
   "cell_type": "code",
   "execution_count": 42,
   "id": "committed-necklace",
   "metadata": {
    "execution": {
     "iopub.execute_input": "2021-04-15T18:18:50.590576Z",
     "iopub.status.busy": "2021-04-15T18:18:50.589684Z",
     "iopub.status.idle": "2021-04-15T18:18:53.300958Z",
     "shell.execute_reply": "2021-04-15T18:18:53.300353Z"
    },
    "papermill": {
     "duration": 2.782472,
     "end_time": "2021-04-15T18:18:53.301124",
     "exception": false,
     "start_time": "2021-04-15T18:18:50.518652",
     "status": "completed"
    },
    "tags": []
   },
   "outputs": [
    {
     "data": {
      "text/html": [
       "<div>\n",
       "<style scoped>\n",
       "    .dataframe tbody tr th:only-of-type {\n",
       "        vertical-align: middle;\n",
       "    }\n",
       "\n",
       "    .dataframe tbody tr th {\n",
       "        vertical-align: top;\n",
       "    }\n",
       "\n",
       "    .dataframe thead th {\n",
       "        text-align: right;\n",
       "    }\n",
       "</style>\n",
       "<table border=\"1\" class=\"dataframe\">\n",
       "  <thead>\n",
       "    <tr style=\"text-align: right;\">\n",
       "      <th></th>\n",
       "      <th>label</th>\n",
       "      <th>pixel0</th>\n",
       "      <th>pixel1</th>\n",
       "      <th>pixel2</th>\n",
       "      <th>pixel3</th>\n",
       "      <th>pixel4</th>\n",
       "      <th>pixel5</th>\n",
       "      <th>pixel6</th>\n",
       "      <th>pixel7</th>\n",
       "      <th>pixel8</th>\n",
       "      <th>...</th>\n",
       "      <th>pixel774</th>\n",
       "      <th>pixel775</th>\n",
       "      <th>pixel776</th>\n",
       "      <th>pixel777</th>\n",
       "      <th>pixel778</th>\n",
       "      <th>pixel779</th>\n",
       "      <th>pixel780</th>\n",
       "      <th>pixel781</th>\n",
       "      <th>pixel782</th>\n",
       "      <th>pixel783</th>\n",
       "    </tr>\n",
       "  </thead>\n",
       "  <tbody>\n",
       "    <tr>\n",
       "      <th>0</th>\n",
       "      <td>1</td>\n",
       "      <td>0</td>\n",
       "      <td>0</td>\n",
       "      <td>0</td>\n",
       "      <td>0</td>\n",
       "      <td>0</td>\n",
       "      <td>0</td>\n",
       "      <td>0</td>\n",
       "      <td>0</td>\n",
       "      <td>0</td>\n",
       "      <td>...</td>\n",
       "      <td>0</td>\n",
       "      <td>0</td>\n",
       "      <td>0</td>\n",
       "      <td>0</td>\n",
       "      <td>0</td>\n",
       "      <td>0</td>\n",
       "      <td>0</td>\n",
       "      <td>0</td>\n",
       "      <td>0</td>\n",
       "      <td>0</td>\n",
       "    </tr>\n",
       "    <tr>\n",
       "      <th>1</th>\n",
       "      <td>0</td>\n",
       "      <td>0</td>\n",
       "      <td>0</td>\n",
       "      <td>0</td>\n",
       "      <td>0</td>\n",
       "      <td>0</td>\n",
       "      <td>0</td>\n",
       "      <td>0</td>\n",
       "      <td>0</td>\n",
       "      <td>0</td>\n",
       "      <td>...</td>\n",
       "      <td>0</td>\n",
       "      <td>0</td>\n",
       "      <td>0</td>\n",
       "      <td>0</td>\n",
       "      <td>0</td>\n",
       "      <td>0</td>\n",
       "      <td>0</td>\n",
       "      <td>0</td>\n",
       "      <td>0</td>\n",
       "      <td>0</td>\n",
       "    </tr>\n",
       "    <tr>\n",
       "      <th>2</th>\n",
       "      <td>1</td>\n",
       "      <td>0</td>\n",
       "      <td>0</td>\n",
       "      <td>0</td>\n",
       "      <td>0</td>\n",
       "      <td>0</td>\n",
       "      <td>0</td>\n",
       "      <td>0</td>\n",
       "      <td>0</td>\n",
       "      <td>0</td>\n",
       "      <td>...</td>\n",
       "      <td>0</td>\n",
       "      <td>0</td>\n",
       "      <td>0</td>\n",
       "      <td>0</td>\n",
       "      <td>0</td>\n",
       "      <td>0</td>\n",
       "      <td>0</td>\n",
       "      <td>0</td>\n",
       "      <td>0</td>\n",
       "      <td>0</td>\n",
       "    </tr>\n",
       "    <tr>\n",
       "      <th>3</th>\n",
       "      <td>4</td>\n",
       "      <td>0</td>\n",
       "      <td>0</td>\n",
       "      <td>0</td>\n",
       "      <td>0</td>\n",
       "      <td>0</td>\n",
       "      <td>0</td>\n",
       "      <td>0</td>\n",
       "      <td>0</td>\n",
       "      <td>0</td>\n",
       "      <td>...</td>\n",
       "      <td>0</td>\n",
       "      <td>0</td>\n",
       "      <td>0</td>\n",
       "      <td>0</td>\n",
       "      <td>0</td>\n",
       "      <td>0</td>\n",
       "      <td>0</td>\n",
       "      <td>0</td>\n",
       "      <td>0</td>\n",
       "      <td>0</td>\n",
       "    </tr>\n",
       "    <tr>\n",
       "      <th>4</th>\n",
       "      <td>0</td>\n",
       "      <td>0</td>\n",
       "      <td>0</td>\n",
       "      <td>0</td>\n",
       "      <td>0</td>\n",
       "      <td>0</td>\n",
       "      <td>0</td>\n",
       "      <td>0</td>\n",
       "      <td>0</td>\n",
       "      <td>0</td>\n",
       "      <td>...</td>\n",
       "      <td>0</td>\n",
       "      <td>0</td>\n",
       "      <td>0</td>\n",
       "      <td>0</td>\n",
       "      <td>0</td>\n",
       "      <td>0</td>\n",
       "      <td>0</td>\n",
       "      <td>0</td>\n",
       "      <td>0</td>\n",
       "      <td>0</td>\n",
       "    </tr>\n",
       "  </tbody>\n",
       "</table>\n",
       "<p>5 rows × 785 columns</p>\n",
       "</div>"
      ],
      "text/plain": [
       "   label  pixel0  pixel1  pixel2  pixel3  pixel4  pixel5  pixel6  pixel7  \\\n",
       "0      1       0       0       0       0       0       0       0       0   \n",
       "1      0       0       0       0       0       0       0       0       0   \n",
       "2      1       0       0       0       0       0       0       0       0   \n",
       "3      4       0       0       0       0       0       0       0       0   \n",
       "4      0       0       0       0       0       0       0       0       0   \n",
       "\n",
       "   pixel8  ...  pixel774  pixel775  pixel776  pixel777  pixel778  pixel779  \\\n",
       "0       0  ...         0         0         0         0         0         0   \n",
       "1       0  ...         0         0         0         0         0         0   \n",
       "2       0  ...         0         0         0         0         0         0   \n",
       "3       0  ...         0         0         0         0         0         0   \n",
       "4       0  ...         0         0         0         0         0         0   \n",
       "\n",
       "   pixel780  pixel781  pixel782  pixel783  \n",
       "0         0         0         0         0  \n",
       "1         0         0         0         0  \n",
       "2         0         0         0         0  \n",
       "3         0         0         0         0  \n",
       "4         0         0         0         0  \n",
       "\n",
       "[5 rows x 785 columns]"
      ]
     },
     "execution_count": 42,
     "metadata": {},
     "output_type": "execute_result"
    }
   ],
   "source": [
    "sample = pd.read_csv(\"../input/digit-recognizer/train.csv\")\n",
    "sample.head()"
   ]
  },
  {
   "cell_type": "code",
   "execution_count": 43,
   "id": "attractive-leonard",
   "metadata": {
    "execution": {
     "iopub.execute_input": "2021-04-15T18:18:53.445687Z",
     "iopub.status.busy": "2021-04-15T18:18:53.444816Z",
     "iopub.status.idle": "2021-04-15T18:18:55.794097Z",
     "shell.execute_reply": "2021-04-15T18:18:55.792951Z"
    },
    "papermill": {
     "duration": 2.42238,
     "end_time": "2021-04-15T18:18:55.794290",
     "exception": false,
     "start_time": "2021-04-15T18:18:53.371910",
     "status": "completed"
    },
    "tags": []
   },
   "outputs": [],
   "source": [
    "test = pd.read_csv(\"../input/digit-recognizer/test.csv\")\n"
   ]
  },
  {
   "cell_type": "code",
   "execution_count": 44,
   "id": "prescription-benjamin",
   "metadata": {
    "execution": {
     "iopub.execute_input": "2021-04-15T18:18:55.938813Z",
     "iopub.status.busy": "2021-04-15T18:18:55.937364Z",
     "iopub.status.idle": "2021-04-15T18:18:56.085991Z",
     "shell.execute_reply": "2021-04-15T18:18:56.085273Z"
    },
    "papermill": {
     "duration": 0.224613,
     "end_time": "2021-04-15T18:18:56.086172",
     "exception": false,
     "start_time": "2021-04-15T18:18:55.861559",
     "status": "completed"
    },
    "tags": []
   },
   "outputs": [],
   "source": [
    "x_test = torch.tensor(test.values).float() / 255.0"
   ]
  },
  {
   "cell_type": "code",
   "execution_count": 45,
   "id": "split-acoustic",
   "metadata": {
    "execution": {
     "iopub.execute_input": "2021-04-15T18:18:56.240468Z",
     "iopub.status.busy": "2021-04-15T18:18:56.239123Z",
     "iopub.status.idle": "2021-04-15T18:18:56.274641Z",
     "shell.execute_reply": "2021-04-15T18:18:56.275207Z"
    },
    "papermill": {
     "duration": 0.113114,
     "end_time": "2021-04-15T18:18:56.275455",
     "exception": false,
     "start_time": "2021-04-15T18:18:56.162341",
     "status": "completed"
    },
    "tags": []
   },
   "outputs": [],
   "source": [
    "ans = simple_net(x_test)"
   ]
  },
  {
   "cell_type": "code",
   "execution_count": 46,
   "id": "sporting-grenada",
   "metadata": {
    "execution": {
     "iopub.execute_input": "2021-04-15T18:18:56.423216Z",
     "iopub.status.busy": "2021-04-15T18:18:56.422474Z",
     "iopub.status.idle": "2021-04-15T18:18:56.432528Z",
     "shell.execute_reply": "2021-04-15T18:18:56.431769Z"
    },
    "papermill": {
     "duration": 0.087236,
     "end_time": "2021-04-15T18:18:56.432684",
     "exception": false,
     "start_time": "2021-04-15T18:18:56.345448",
     "status": "completed"
    },
    "tags": []
   },
   "outputs": [
    {
     "data": {
      "text/plain": [
       "tensor([[ -3.3293,   3.3135,  27.1425,  ...,  11.4439,  -9.0879, -25.0229],\n",
       "        [ 41.9408, -21.7943,   9.9450,  ...,  21.5605,  -5.5706,  16.0578],\n",
       "        [  0.1405,  -2.1418,  -0.8448,  ...,   2.2305,   2.0500,   6.7653],\n",
       "        ...,\n",
       "        [-11.2130,   2.4687,  -2.0384,  ...,  -6.1488,   5.8679,   9.5411],\n",
       "        [  0.6026,  -3.0000,  -2.1210,  ...,   6.8950,  -5.8208,  14.0424],\n",
       "        [ -6.7358,   1.8481,  22.3734,  ...,   9.6887,  -8.5867, -25.0702]],\n",
       "       grad_fn=<AddBackward0>)"
      ]
     },
     "execution_count": 46,
     "metadata": {},
     "output_type": "execute_result"
    }
   ],
   "source": [
    "ans"
   ]
  },
  {
   "cell_type": "code",
   "execution_count": 47,
   "id": "hourly-merchant",
   "metadata": {
    "execution": {
     "iopub.execute_input": "2021-04-15T18:18:56.575671Z",
     "iopub.status.busy": "2021-04-15T18:18:56.574938Z",
     "iopub.status.idle": "2021-04-15T18:18:56.586532Z",
     "shell.execute_reply": "2021-04-15T18:18:56.587406Z"
    },
    "papermill": {
     "duration": 0.086189,
     "end_time": "2021-04-15T18:18:56.587658",
     "exception": false,
     "start_time": "2021-04-15T18:18:56.501469",
     "status": "completed"
    },
    "tags": []
   },
   "outputs": [],
   "source": [
    "ans1 = torch.argmax(ans, dim=1)"
   ]
  },
  {
   "cell_type": "code",
   "execution_count": 48,
   "id": "associate-marketplace",
   "metadata": {
    "execution": {
     "iopub.execute_input": "2021-04-15T18:18:56.733608Z",
     "iopub.status.busy": "2021-04-15T18:18:56.732670Z",
     "iopub.status.idle": "2021-04-15T18:18:56.737021Z",
     "shell.execute_reply": "2021-04-15T18:18:56.737514Z"
    },
    "papermill": {
     "duration": 0.080174,
     "end_time": "2021-04-15T18:18:56.737713",
     "exception": false,
     "start_time": "2021-04-15T18:18:56.657539",
     "status": "completed"
    },
    "tags": []
   },
   "outputs": [
    {
     "data": {
      "text/plain": [
       "tensor([2, 0, 9,  ..., 3, 9, 2])"
      ]
     },
     "execution_count": 48,
     "metadata": {},
     "output_type": "execute_result"
    }
   ],
   "source": [
    "ans1"
   ]
  },
  {
   "cell_type": "code",
   "execution_count": 49,
   "id": "eligible-richardson",
   "metadata": {
    "execution": {
     "iopub.execute_input": "2021-04-15T18:18:56.882648Z",
     "iopub.status.busy": "2021-04-15T18:18:56.881839Z",
     "iopub.status.idle": "2021-04-15T18:18:56.885789Z",
     "shell.execute_reply": "2021-04-15T18:18:56.886417Z"
    },
    "papermill": {
     "duration": 0.078341,
     "end_time": "2021-04-15T18:18:56.886611",
     "exception": false,
     "start_time": "2021-04-15T18:18:56.808270",
     "status": "completed"
    },
    "tags": []
   },
   "outputs": [],
   "source": [
    "preds = ans1"
   ]
  },
  {
   "cell_type": "code",
   "execution_count": 50,
   "id": "african-pizza",
   "metadata": {
    "execution": {
     "iopub.execute_input": "2021-04-15T18:18:57.036133Z",
     "iopub.status.busy": "2021-04-15T18:18:57.035357Z",
     "iopub.status.idle": "2021-04-15T18:18:57.061545Z",
     "shell.execute_reply": "2021-04-15T18:18:57.062130Z"
    },
    "papermill": {
     "duration": 0.102367,
     "end_time": "2021-04-15T18:18:57.062379",
     "exception": false,
     "start_time": "2021-04-15T18:18:56.960012",
     "status": "completed"
    },
    "tags": []
   },
   "outputs": [
    {
     "data": {
      "text/html": [
       "<div>\n",
       "<style scoped>\n",
       "    .dataframe tbody tr th:only-of-type {\n",
       "        vertical-align: middle;\n",
       "    }\n",
       "\n",
       "    .dataframe tbody tr th {\n",
       "        vertical-align: top;\n",
       "    }\n",
       "\n",
       "    .dataframe thead th {\n",
       "        text-align: right;\n",
       "    }\n",
       "</style>\n",
       "<table border=\"1\" class=\"dataframe\">\n",
       "  <thead>\n",
       "    <tr style=\"text-align: right;\">\n",
       "      <th></th>\n",
       "      <th>Label</th>\n",
       "    </tr>\n",
       "  </thead>\n",
       "  <tbody>\n",
       "    <tr>\n",
       "      <th>1</th>\n",
       "      <td>2</td>\n",
       "    </tr>\n",
       "    <tr>\n",
       "      <th>2</th>\n",
       "      <td>0</td>\n",
       "    </tr>\n",
       "    <tr>\n",
       "      <th>3</th>\n",
       "      <td>9</td>\n",
       "    </tr>\n",
       "    <tr>\n",
       "      <th>4</th>\n",
       "      <td>4</td>\n",
       "    </tr>\n",
       "    <tr>\n",
       "      <th>5</th>\n",
       "      <td>2</td>\n",
       "    </tr>\n",
       "  </tbody>\n",
       "</table>\n",
       "</div>"
      ],
      "text/plain": [
       "   Label\n",
       "1      2\n",
       "2      0\n",
       "3      9\n",
       "4      4\n",
       "5      2"
      ]
     },
     "execution_count": 50,
     "metadata": {},
     "output_type": "execute_result"
    }
   ],
   "source": [
    "df_result = pd.DataFrame(\n",
    "    {\n",
    "        \"Label\": preds.tolist()\n",
    "    }\n",
    ")\n",
    "df_result.index += 1\n",
    "df_result.head()"
   ]
  },
  {
   "cell_type": "code",
   "execution_count": 51,
   "id": "suffering-worker",
   "metadata": {
    "execution": {
     "iopub.execute_input": "2021-04-15T18:18:57.227471Z",
     "iopub.status.busy": "2021-04-15T18:18:57.226705Z",
     "iopub.status.idle": "2021-04-15T18:18:57.300374Z",
     "shell.execute_reply": "2021-04-15T18:18:57.299703Z"
    },
    "papermill": {
     "duration": 0.155401,
     "end_time": "2021-04-15T18:18:57.300536",
     "exception": false,
     "start_time": "2021-04-15T18:18:57.145135",
     "status": "completed"
    },
    "tags": []
   },
   "outputs": [],
   "source": [
    "df_result.to_csv(\"submission.csv\", index_label=\"ImageId\")"
   ]
  },
  {
   "cell_type": "code",
   "execution_count": 52,
   "id": "furnished-cigarette",
   "metadata": {
    "execution": {
     "iopub.execute_input": "2021-04-15T18:18:57.457854Z",
     "iopub.status.busy": "2021-04-15T18:18:57.456646Z",
     "iopub.status.idle": "2021-04-15T18:18:57.462408Z",
     "shell.execute_reply": "2021-04-15T18:18:57.461697Z"
    },
    "papermill": {
     "duration": 0.090957,
     "end_time": "2021-04-15T18:18:57.462563",
     "exception": false,
     "start_time": "2021-04-15T18:18:57.371606",
     "status": "completed"
    },
    "tags": []
   },
   "outputs": [
    {
     "data": {
      "text/html": [
       "<div>\n",
       "<style scoped>\n",
       "    .dataframe tbody tr th:only-of-type {\n",
       "        vertical-align: middle;\n",
       "    }\n",
       "\n",
       "    .dataframe tbody tr th {\n",
       "        vertical-align: top;\n",
       "    }\n",
       "\n",
       "    .dataframe thead th {\n",
       "        text-align: right;\n",
       "    }\n",
       "</style>\n",
       "<table border=\"1\" class=\"dataframe\">\n",
       "  <thead>\n",
       "    <tr style=\"text-align: right;\">\n",
       "      <th></th>\n",
       "      <th>Label</th>\n",
       "    </tr>\n",
       "  </thead>\n",
       "  <tbody>\n",
       "    <tr>\n",
       "      <th>1</th>\n",
       "      <td>2</td>\n",
       "    </tr>\n",
       "    <tr>\n",
       "      <th>2</th>\n",
       "      <td>0</td>\n",
       "    </tr>\n",
       "    <tr>\n",
       "      <th>3</th>\n",
       "      <td>9</td>\n",
       "    </tr>\n",
       "    <tr>\n",
       "      <th>4</th>\n",
       "      <td>4</td>\n",
       "    </tr>\n",
       "    <tr>\n",
       "      <th>5</th>\n",
       "      <td>2</td>\n",
       "    </tr>\n",
       "    <tr>\n",
       "      <th>...</th>\n",
       "      <td>...</td>\n",
       "    </tr>\n",
       "    <tr>\n",
       "      <th>27996</th>\n",
       "      <td>9</td>\n",
       "    </tr>\n",
       "    <tr>\n",
       "      <th>27997</th>\n",
       "      <td>7</td>\n",
       "    </tr>\n",
       "    <tr>\n",
       "      <th>27998</th>\n",
       "      <td>3</td>\n",
       "    </tr>\n",
       "    <tr>\n",
       "      <th>27999</th>\n",
       "      <td>9</td>\n",
       "    </tr>\n",
       "    <tr>\n",
       "      <th>28000</th>\n",
       "      <td>2</td>\n",
       "    </tr>\n",
       "  </tbody>\n",
       "</table>\n",
       "<p>28000 rows × 1 columns</p>\n",
       "</div>"
      ],
      "text/plain": [
       "       Label\n",
       "1          2\n",
       "2          0\n",
       "3          9\n",
       "4          4\n",
       "5          2\n",
       "...      ...\n",
       "27996      9\n",
       "27997      7\n",
       "27998      3\n",
       "27999      9\n",
       "28000      2\n",
       "\n",
       "[28000 rows x 1 columns]"
      ]
     },
     "execution_count": 52,
     "metadata": {},
     "output_type": "execute_result"
    }
   ],
   "source": [
    "df_result"
   ]
  },
  {
   "cell_type": "code",
   "execution_count": null,
   "id": "chinese-kazakhstan",
   "metadata": {
    "papermill": {
     "duration": 0.070812,
     "end_time": "2021-04-15T18:18:57.606438",
     "exception": false,
     "start_time": "2021-04-15T18:18:57.535626",
     "status": "completed"
    },
    "tags": []
   },
   "outputs": [],
   "source": []
  }
 ],
 "metadata": {
  "kernelspec": {
   "display_name": "Python 3",
   "language": "python",
   "name": "python3"
  },
  "language_info": {
   "codemirror_mode": {
    "name": "ipython",
    "version": 3
   },
   "file_extension": ".py",
   "mimetype": "text/x-python",
   "name": "python",
   "nbconvert_exporter": "python",
   "pygments_lexer": "ipython3",
   "version": "3.7.9"
  },
  "papermill": {
   "default_parameters": {},
   "duration": 56.804058,
   "end_time": "2021-04-15T18:18:58.795792",
   "environment_variables": {},
   "exception": null,
   "input_path": "__notebook__.ipynb",
   "output_path": "__notebook__.ipynb",
   "parameters": {},
   "start_time": "2021-04-15T18:18:01.991734",
   "version": "2.3.2"
  }
 },
 "nbformat": 4,
 "nbformat_minor": 5
}
